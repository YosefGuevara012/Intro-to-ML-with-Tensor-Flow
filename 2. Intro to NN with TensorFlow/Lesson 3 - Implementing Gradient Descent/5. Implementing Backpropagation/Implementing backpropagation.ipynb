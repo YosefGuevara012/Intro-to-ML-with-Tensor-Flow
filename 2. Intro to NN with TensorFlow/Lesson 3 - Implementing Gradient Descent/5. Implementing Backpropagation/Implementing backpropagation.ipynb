{
 "cells": [
  {
   "cell_type": "markdown",
   "id": "a03baeed",
   "metadata": {},
   "source": [
    "# Implementing backpropagation\n",
    "\n",
    "![information](img\\information.png)"
   ]
  },
  {
   "cell_type": "markdown",
   "id": "73bf5a48",
   "metadata": {},
   "source": [
    "## Backpropagation exercise\n",
    "Now you're going to implement the backprop algorithm for a network trained on the graduate school admission data. You should have everything you need from the previous exercises to complete this one.\n",
    "\n",
    "Your goals here:\n",
    "\n",
    "- Implement the forward pass.\n",
    "- Implement the backpropagation algorithm.\n",
    "- Update the weights."
   ]
  },
  {
   "cell_type": "code",
   "execution_count": 22,
   "id": "e4fc7215",
   "metadata": {},
   "outputs": [
    {
     "name": "stdout",
     "output_type": "stream",
     "text": [
      "Train loss:  0.27630002065852294\n",
      "Train loss:  0.27487280940102665\n",
      "Train loss:  0.2734814690053808\n",
      "Train loss:  0.27212535119812675\n",
      "Train loss:  0.27080379729958337\n",
      "Train loss:  0.2695161402601928\n",
      "Train loss:  0.2682617065761968\n",
      "Train loss:  0.26703981808591765\n",
      "Train loss:  0.2658497936485804\n",
      "Train loss:  0.26469095070807397\n",
      "Prediction accuracy: 0.425\n"
     ]
    }
   ],
   "source": [
    "import numpy as np\n",
    "from data_prep import features, targets, features_test, targets_test\n",
    "\n",
    "np.random.seed(21)\n",
    "\n",
    "def sigmoid(x):\n",
    "    \"\"\"\n",
    "    Calculate sigmoid\n",
    "    \"\"\"\n",
    "    return 1 / (1 + np.exp(-x))\n",
    "\n",
    "\n",
    "# Hyperparameters\n",
    "n_hidden = 2  # number of hidden units\n",
    "epochs = 900\n",
    "learnrate = 0.005\n",
    "\n",
    "n_records, n_features = features.shape\n",
    "last_loss = None\n",
    "# Initialize weights\n",
    "weights_input_hidden = np.random.normal(scale=1 / n_features ** .5,\n",
    "                                        size=(n_features, n_hidden))\n",
    "weights_hidden_output = np.random.normal(scale=1 / n_features ** .5,\n",
    "                                         size=n_hidden)\n",
    "\n",
    "for e in range(epochs):\n",
    "    del_w_input_hidden = np.zeros(weights_input_hidden.shape)\n",
    "    del_w_hidden_output = np.zeros(weights_hidden_output.shape)\n",
    "    for x, y in zip(features.values, targets):\n",
    "        ## Forward pass ##\n",
    "        # TODO: Calculate the output\n",
    "        hidden_input = np.dot(x, weights_input_hidden)\n",
    "        hidden_output = sigmoid(hidden_input)\n",
    "        output = sigmoid(np.dot(hidden_output, weights_hidden_output ))\n",
    "\n",
    "        ## Backward pass ##\n",
    "        # TODO: Calculate the network's prediction error\n",
    "        error = y - output\n",
    "\n",
    "        # TODO: Calculate error term for the output unit\n",
    "        output_error_term = error * output * (1 - output)\n",
    "\n",
    "        ## propagate errors to hidden layer\n",
    "\n",
    "        # TODO: Calculate the hidden layer's contribution to the error\n",
    "        hidden_error = np.dot(weights_hidden_output,output_error_term)\n",
    "        \n",
    "        # TODO: Calculate the error term for the hidden layer\n",
    "        hidden_error_term = hidden_error * hidden_output * (1 - hidden_output)\n",
    "     \n",
    "        # TODO: Update the change in weights\n",
    "        del_w_hidden_output += output_error_term * hidden_output\n",
    "        del_w_input_hidden += hidden_error_term * x[:,None]\n",
    "\n",
    "    # TODO: Update weights  (don't forget to division by n_records or number of samples)\n",
    "    weights_input_hidden += learnrate * del_w_input_hidden / n_records\n",
    "    weights_hidden_output += learnrate * del_w_hidden_output / n_records\n",
    "\n",
    "    # Printing out the mean square error on the training set\n",
    "    if e % (epochs / 10) == 0:\n",
    "        hidden_output = sigmoid(np.dot(x, weights_input_hidden))\n",
    "        out = sigmoid(np.dot(hidden_output,\n",
    "                             weights_hidden_output))\n",
    "        loss = np.mean((out - targets) ** 2)\n",
    "\n",
    "        if last_loss and last_loss < loss:\n",
    "            print(\"Train loss: \", loss, \"  WARNING - Loss Increasing\")\n",
    "        else:\n",
    "            print(\"Train loss: \", loss)\n",
    "        last_loss = loss\n",
    "\n",
    "# Calculate accuracy on test data\n",
    "hidden = sigmoid(np.dot(features_test, weights_input_hidden))\n",
    "out = sigmoid(np.dot(hidden, weights_hidden_output))\n",
    "predictions = out > 0.5\n",
    "accuracy = np.mean(predictions == targets_test)\n",
    "print(\"Prediction accuracy: {:.3f}\".format(accuracy))\n"
   ]
  },
  {
   "cell_type": "code",
   "execution_count": 11,
   "id": "b6b25086",
   "metadata": {},
   "outputs": [
    {
     "data": {
      "text/plain": [
       "array([[-0.02114952, -0.04542027],\n",
       "       [ 0.42536536, -0.51307962],\n",
       "       [ 0.30429765, -0.69853181],\n",
       "       [-0.08410102, -0.09573925],\n",
       "       [ 0.46048191, -0.00511942],\n",
       "       [-0.25038943,  0.56082608]])"
      ]
     },
     "execution_count": 11,
     "metadata": {},
     "output_type": "execute_result"
    }
   ],
   "source": [
    "weights_input_hidden"
   ]
  },
  {
   "cell_type": "code",
   "execution_count": 12,
   "id": "9d1b3c19",
   "metadata": {},
   "outputs": [
    {
     "data": {
      "text/plain": [
       "array([ 0.65705345, -0.28208147])"
      ]
     },
     "execution_count": 12,
     "metadata": {},
     "output_type": "execute_result"
    }
   ],
   "source": [
    "weights_hidden_output"
   ]
  },
  {
   "cell_type": "code",
   "execution_count": 8,
   "id": "aaeeb520",
   "metadata": {},
   "outputs": [
    {
     "data": {
      "text/plain": [
       "array([[-0.02121502, -0.04539638],\n",
       "       [ 0.42531106, -0.51306245],\n",
       "       [ 0.30430255, -0.69853556],\n",
       "       [-0.08404448, -0.09576411],\n",
       "       [ 0.46056218, -0.00515531],\n",
       "       [-0.25033867,  0.5608052 ]])"
      ]
     },
     "execution_count": 8,
     "metadata": {},
     "output_type": "execute_result"
    }
   ],
   "source": [
    "weights_input_hidden"
   ]
  },
  {
   "cell_type": "code",
   "execution_count": null,
   "id": "42315776",
   "metadata": {},
   "outputs": [],
   "source": [
    "#####Implementation of Backpropagation#######\n",
    "def sigmoid(x):\n",
    "    \"\"\"\n",
    "    Calculate sigmoid\n",
    "    \"\"\"\n",
    "    return 1 / (1 + np.exp(-x))\n",
    "\n",
    "\n",
    "# Hyperparameters\n",
    "n_hidden = 2  # number of hidden units\n",
    "epochs = 900\n",
    "learnrate = 0.005\n",
    "\n",
    "n_records, n_features = features.shape\n",
    "last_loss = None\n",
    "# Initialize weights\n",
    "#weights_input_hidden = (6,2)\n",
    "weights_input_hidden = np.random.normal(scale=1 / n_features ** .5,\n",
    "                                        size=(n_features, n_hidden))\n",
    "#weights_hidden_output.shape = (2,)\n",
    "weights_hidden_output = np.random.normal(scale=1 / n_features ** .5,\n",
    "                                         size=n_hidden)\n",
    "\n",
    "for e in range(epochs):\n",
    "    \n",
    "    #delta weights from inputs to the two hidden units\n",
    "    del_w_input_hidden = np.zeros(weights_input_hidden.shape)\n",
    "    \n",
    "    #delta weights from hidden units to the single output unit\n",
    "    del_w_hidden_output = np.zeros(weights_hidden_output.shape)\n",
    "    \n",
    "    #iterates over the features and targets, \n",
    "    #assigning features to x and targets to y\n",
    "    for x, y in zip(features.values, targets):\n",
    "        ## Forward pass ##\n",
    "        # DONE: CalculateS the output\n",
    "        hidden_input = np.dot(x, weights_input_hidden)#input to hidden units\n",
    "        hidden_output = sigmoid(hidden_input)#output of hidden units\n",
    "        \n",
    "        #output of final output unit\n",
    "        output = sigmoid(np.dot(hidden_output, weights_hidden_output))\n",
    "\n",
    "        ## Backward pass ##\n",
    "        # DONE: Calculate the network's prediction error\n",
    "        error = y - output #error = difference between predited output and target\n",
    "\n",
    "        # DONE: Calculate error term for the output unit\n",
    "        #output * (1 - output) = sigmoid_prime, derivative of the output\n",
    "        output_error_term = error * output * (1 - output)\n",
    "        \n",
    "\n",
    "        ## propagate errors to hidden layer\n",
    "\n",
    "        # DONE: Calculate the hidden layer's contribution to the error\n",
    "        hidden_error = np.dot(weights_input_hidden, output_error_term)\n",
    "        \n",
    "        # DONE: Calculate the error term for the hidden layer\n",
    "        hidden_error_term = hidden_error * hidden_output * (1-hidden_output)\n",
    "        \n",
    "        # DONE: Update the change in weights\n",
    "        del_w_hidden_output += output_error_term*output\n",
    "        del_w_input_hidden += hidden_error_term*np.array(x, ndmin=2).T\n",
    "\n",
    "    # DONE: Update weights\n",
    "    #adds the product of learning rate, change in weights from adding negative gradients, and \n",
    "    #takes the average by dividing by total number of data points or number of records\n",
    "    weights_input_hidden += learnrate* del_w_input_hidden/n_records\n",
    "    weights_hidden_output += learnrate * del_w_hidden_output/n_records\n",
    "\n",
    "    # Printing out the mean square error on the training set\n",
    "    if e % (epochs / 10) == 0:\n",
    "        hidden_output = sigmoid(np.dot(x, weights_input_hidden))\n",
    "        out = sigmoid(np.dot(hidden_output,\n",
    "                             weights_hidden_output))\n",
    "        loss = np.mean((out - targets) ** 2)\n",
    "\n",
    "        if last_loss and last_loss < loss:\n",
    "            print(\"Train loss: \", loss, \"  WARNING - Loss Increasing\")\n",
    "        else:\n",
    "            print(\"Train loss: \", loss)\n",
    "        last_loss = loss\n",
    "\n",
    "# Calculate accuracy on test data\n",
    "hidden = sigmoid(np.dot(features_test, weights_input_hidden))\n",
    "out = sigmoid(np.dot(hidden, weights_hidden_output))\n",
    "predictions = out > 0.5\n",
    "accuracy = np.mean(predictions == targets_test)\n",
    "print(\"Prediction accuracy: {:.3f}\".format(accuracy))\n"
   ]
  }
 ],
 "metadata": {
  "kernelspec": {
   "display_name": "Python 3 (ipykernel)",
   "language": "python",
   "name": "python3"
  },
  "language_info": {
   "codemirror_mode": {
    "name": "ipython",
    "version": 3
   },
   "file_extension": ".py",
   "mimetype": "text/x-python",
   "name": "python",
   "nbconvert_exporter": "python",
   "pygments_lexer": "ipython3",
   "version": "3.9.7"
  }
 },
 "nbformat": 4,
 "nbformat_minor": 5
}
