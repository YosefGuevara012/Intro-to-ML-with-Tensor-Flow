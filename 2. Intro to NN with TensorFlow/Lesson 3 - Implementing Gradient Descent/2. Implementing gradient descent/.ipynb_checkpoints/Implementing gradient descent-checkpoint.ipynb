{
 "cells": [
  {
   "cell_type": "markdown",
   "id": "83ca68cf",
   "metadata": {},
   "source": [
    "# Implementing gradient descent\n",
    "\n",
    "\n",
    "Okay, now we know how to update our weights:\n",
    "\n",
    "$$\\Delta \\omega_{ij} = \\eta * \\delta_j * x_{i}$$\n",
    "\n",
    "\n",
    "ou've seen how to implement that for a single update, but how do we translate that code to calculate many weight updates so our network will learn?\n",
    "\n",
    "As an example, I'm going to have you use gradient descent to train a network on graduate school admissions data (found at http://www.ats.ucla.edu/stat/data/binary.csv). This dataset has three input features: GRE score, GPA, and the rank of the undergraduate school (numbered 1 through 4). Institutions with rank 1 have the highest prestige, those with rank 4 have the lowest.\n",
    "\n",
    "The goal here is to predict if a student will be admitted to a graduate program based on these features. For this, we'll use a network with one output layer with one unit. We'll use a sigmoid function for the output unit activation.\n",
    "\n"
   ]
  },
  {
   "cell_type": "code",
   "execution_count": null,
   "id": "08b46359",
   "metadata": {},
   "outputs": [],
   "source": []
  }
 ],
 "metadata": {
  "kernelspec": {
   "display_name": "Python 3 (ipykernel)",
   "language": "python",
   "name": "python3"
  },
  "language_info": {
   "codemirror_mode": {
    "name": "ipython",
    "version": 3
   },
   "file_extension": ".py",
   "mimetype": "text/x-python",
   "name": "python",
   "nbconvert_exporter": "python",
   "pygments_lexer": "ipython3",
   "version": "3.9.7"
  }
 },
 "nbformat": 4,
 "nbformat_minor": 5
}
