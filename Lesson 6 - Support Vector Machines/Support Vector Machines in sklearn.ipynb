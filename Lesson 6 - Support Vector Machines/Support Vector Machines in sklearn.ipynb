{
 "cells": [
  {
   "cell_type": "markdown",
   "id": "e5a30a4c",
   "metadata": {},
   "source": [
    "## Support Vector Machines Quiz\n",
    "\n",
    "In this quiz, you'll be given with the following sample dataset, and your goal is to define a model that gives 100% accuracy on it.\n",
    "\n",
    "\n",
    "The data file can be found under the \"data.csv\" tab in the quiz below. It includes three columns, the first 2 comprising of the coordinates of the points, and the third one of the label.\n",
    "\n",
    "The data will be loaded for you, and split into features X and labels y.\n",
    "\n",
    "You'll need to complete each of the following steps:\n",
    "### 1. Build a support vector machine model\n",
    "\n",
    "Create a support vector machine classification model using scikit-learn's SVC and assign it to the variablemodel.\n",
    "\n",
    "## 2. Fit the model to the data\n",
    "\n",
    "If necessary, specify some of the hyperparameters. The goal is to obtain an accuracy of 100% in the dataset. Hint: Not every kernel will work well.\n",
    "## 3. Predict using the model\n",
    "\n",
    "Predict the labels for the training set, and assign this list to the variable y_pred.\n",
    "## 4. Calculate the accuracy of the model\n",
    "\n",
    "For this, use the function sklearn function accuracy_score.\n",
    "When you hit Test Run, you'll be able to see the boundary region of your model, which will help you tune the correct parameters, in case you need them.\n",
    "\n",
    "Note: This quiz requires you to find an accuracy of 100% on the training set. Of course, this screams overfitting! If you pick very large values for your parameters, you will fit the training set very well, but it may not be the best model. Try to find the smallest possible parameters that do the job, which has less chance of overfitting, although this part won't be graded."
   ]
  },
  {
   "cell_type": "code",
   "execution_count": null,
   "id": "1c254a2d",
   "metadata": {},
   "outputs": [],
   "source": [
    "# Import statements \n",
    "from sklearn.svm import SVC\n",
    "from sklearn.metrics import accuracy_score\n",
    "import pandas as pd\n",
    "import numpy as np\n",
    "\n"
   ]
  },
  {
   "cell_type": "code",
   "execution_count": null,
   "id": "69dba810",
   "metadata": {},
   "outputs": [],
   "source": [
    "# Read the data.\n",
    "data = np.asarray(pd.read_csv('data.csv', header=None))\n",
    "# Assign the features to the variable X, and the labels to the variable y. \n",
    "X = data[:,0:2]\n",
    "y = data[:,2]\n",
    "\n"
   ]
  },
  {
   "cell_type": "code",
   "execution_count": null,
   "id": "07aa2f5b",
   "metadata": {},
   "outputs": [],
   "source": [
    "# TODO: Create the model and assign it to the variable model.\n",
    "# Find the right parameters for this model to achieve 100% accuracy on the dataset.\n",
    "model = None\n",
    "\n"
   ]
  },
  {
   "cell_type": "code",
   "execution_count": null,
   "id": "a7881594",
   "metadata": {},
   "outputs": [],
   "source": [
    "# TODO: Fit the model.\n",
    "\n"
   ]
  },
  {
   "cell_type": "code",
   "execution_count": null,
   "id": "d4f0eec6",
   "metadata": {},
   "outputs": [],
   "source": [
    "# TODO: Make predictions. Store them in the variable y_pred.\n",
    "y_pred = None\n",
    "\n"
   ]
  },
  {
   "cell_type": "code",
   "execution_count": null,
   "id": "a2f31e5e",
   "metadata": {},
   "outputs": [],
   "source": [
    "# TODO: Calculate the accuracy and assign it to the variable acc.\n",
    "acc = None"
   ]
  }
 ],
 "metadata": {
  "kernelspec": {
   "display_name": "Python 3 (ipykernel)",
   "language": "python",
   "name": "python3"
  },
  "language_info": {
   "codemirror_mode": {
    "name": "ipython",
    "version": 3
   },
   "file_extension": ".py",
   "mimetype": "text/x-python",
   "name": "python",
   "nbconvert_exporter": "python",
   "pygments_lexer": "ipython3",
   "version": "3.9.7"
  }
 },
 "nbformat": 4,
 "nbformat_minor": 5
}
