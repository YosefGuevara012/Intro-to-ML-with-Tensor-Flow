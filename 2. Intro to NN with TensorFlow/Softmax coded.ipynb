{
 "cells": [
  {
   "cell_type": "markdown",
   "id": "6b3820b9",
   "metadata": {},
   "source": [
    "# Quiz: Coding Softmax\n",
    "\n",
    "And now, your time to shine! Let's code the formula for the Softmax function in Python.\n",
    "\n",
    "$$P\\left ( Class  \\right )_i= \\frac {e^{Z_i}}{e^{Z_i} + ... + e^{Z_n}}$$"
   ]
  },
  {
   "cell_type": "code",
   "execution_count": 6,
   "id": "b7c6ee37",
   "metadata": {},
   "outputs": [],
   "source": [
    "import numpy as np\n",
    "\n",
    "# Write a function that takes as input a list of numbers, and returns\n",
    "# the list of values given by the softmax function.\n",
    "def softmax(L):  \n",
    "    result = []\n",
    "    for number in L:\n",
    "        result.append(np.exp(number) / np.sum(np.exp(L)))\n",
    "        \n",
    "    return result"
   ]
  }
 ],
 "metadata": {
  "kernelspec": {
   "display_name": "Python 3 (ipykernel)",
   "language": "python",
   "name": "python3"
  },
  "language_info": {
   "codemirror_mode": {
    "name": "ipython",
    "version": 3
   },
   "file_extension": ".py",
   "mimetype": "text/x-python",
   "name": "python",
   "nbconvert_exporter": "python",
   "pygments_lexer": "ipython3",
   "version": "3.9.7"
  }
 },
 "nbformat": 4,
 "nbformat_minor": 5
}
