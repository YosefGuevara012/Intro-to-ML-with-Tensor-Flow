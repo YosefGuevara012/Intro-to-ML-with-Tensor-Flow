{
 "cells": [
  {
   "cell_type": "markdown",
   "id": "648c95c3",
   "metadata": {},
   "source": [
    "# Decision Tree Quiz\n",
    "\n",
    "In this quiz, you'll be given the following sample dataset, and your goal is to define a model that gives 100% accuracy on it."
   ]
  },
  {
   "cell_type": "markdown",
   "id": "8c9f360c",
   "metadata": {},
   "source": [
    "The data file can be found under the \"data.csv\" tab in the quiz below. It includes three columns, the first 2 comprising of the coordinates of the points, and the third one of the label.\n",
    "\n",
    "The data will be loaded for you, and split into features X and labels y.\n",
    "\n",
    "You'll need to complete each of the following steps:\n",
    "## 1. Build a decision tree model\n",
    "\n",
    "Create a decision tree classification model using scikit-learn's DecisionTreeClassifier and assign it to the variablemodel.\n",
    "## 2. Fit the model to the data\n",
    "\n",
    "You won't need to specify any of the hyperparameters, since the default ones will yield a model that perfectly classifies the training data. However, we encourage you to play with hyperparameters such as max_depth and min_samples_leaf to try to find the simplest possible model.\n",
    "## 3. Predict using the model\n",
    "\n",
    "Predict the labels for the training set, and assign this list to the variable y_pred.\n",
    "## 4. Calculate the accuracy of the model\n",
    "\n",
    "For this, use the function sklearn function accuracy_score. A model's accuracy is the fraction of all data points that it correctly classified.\n",
    "When you hit Test Run, you'll be able to see the boundary region of your model, which will help you tune the correct parameters, in case you need them.\n",
    "\n",
    "Note: This quiz requires you to find an accuracy of 100% on the training set. This is like memorizing the training data! A model designed to have 100% accuracy on training data is unlikely to generalize well to new data. If you pick very large values for your parameters, the model will fit the training set very well, but may not generalize well. Try to find the smallest possible parameters that do the job—then the model will be more likely to generalize well. (This aspect of the exercise won't be graded.)"
   ]
  },
  {
   "cell_type": "code",
   "execution_count": 1,
   "id": "7b8b4619",
   "metadata": {},
   "outputs": [],
   "source": [
    "# Import statements \n",
    "from sklearn.tree import DecisionTreeClassifier\n",
    "from sklearn.metrics import accuracy_score\n",
    "import pandas as pd\n",
    "import numpy as np\n"
   ]
  },
  {
   "cell_type": "code",
   "execution_count": 2,
   "id": "b593d93a",
   "metadata": {},
   "outputs": [],
   "source": [
    "# Read the data.\n",
    "data = np.asarray(pd.read_csv('data.csv', header=None))\n",
    "# Assign the features to the variable X, and the labels to the variable y. \n",
    "X = data[:,0:2]\n",
    "y = data[:,2]\n"
   ]
  },
  {
   "cell_type": "code",
   "execution_count": 4,
   "id": "71337609",
   "metadata": {},
   "outputs": [
    {
     "data": {
      "text/plain": [
       "DecisionTreeClassifier()"
      ]
     },
     "execution_count": 4,
     "metadata": {},
     "output_type": "execute_result"
    }
   ],
   "source": [
    "# TODO: Create the decision tree model and assign it to the variable model.\n",
    "# You won't need to, but if you'd like, play with hyperparameters such\n",
    "# as max_depth and min_samples_leaf and see what they do to the decision\n",
    "# boundary.\n",
    "model = DecisionTreeClassifier()\n",
    "\n",
    "\n"
   ]
  },
  {
   "cell_type": "code",
   "execution_count": 5,
   "id": "41bc423e",
   "metadata": {},
   "outputs": [
    {
     "data": {
      "text/plain": [
       "DecisionTreeClassifier()"
      ]
     },
     "execution_count": 5,
     "metadata": {},
     "output_type": "execute_result"
    }
   ],
   "source": [
    "# TODO: Fit the model.\n",
    "model.fit(X,y)\n"
   ]
  },
  {
   "cell_type": "code",
   "execution_count": 17,
   "id": "4f7f57a5",
   "metadata": {},
   "outputs": [
    {
     "name": "stdout",
     "output_type": "stream",
     "text": [
      "[0. 0. 0. 0. 0. 0. 0. 0. 0. 0. 0. 0. 0. 0. 0. 0. 0. 0. 0. 0. 0. 0. 0. 0.\n",
      " 0. 0. 0. 0. 0. 0. 0. 0. 1. 1. 1. 1. 1. 1. 1. 1. 1. 1. 1. 1. 1. 1. 1. 1.\n",
      " 1. 1. 1. 1. 1. 1. 1. 1. 1. 1. 1. 1. 1. 1. 1. 1. 1. 1. 1. 1. 1. 1. 1. 1.\n",
      " 1. 1. 1. 1. 1. 1. 1. 1. 1. 1. 1. 1. 1. 1. 1. 1. 1. 1. 1. 1. 1. 1. 1. 1.]\n"
     ]
    }
   ],
   "source": [
    "# TODO: Make predictions. Store them in the variable y_pred.\n",
    "y_pred = model.predict(X)\n",
    "print(y_pred)"
   ]
  },
  {
   "cell_type": "code",
   "execution_count": 20,
   "id": "07f87be6",
   "metadata": {},
   "outputs": [
    {
     "data": {
      "text/plain": [
       "96"
      ]
     },
     "execution_count": 20,
     "metadata": {},
     "output_type": "execute_result"
    }
   ],
   "source": [
    "# TODO: Calculate the accuracy and assign it to the variable acc.\n",
    "from sklearn.metrics import accuracy_score\n",
    "acc = accuracy_score(y, y_pred) # percentage of data correctly classified \n",
    "acc = accuracy_score(y, y_pred, normalize=False) # Number of correctly classified data\n",
    "acc "
   ]
  },
  {
   "cell_type": "code",
   "execution_count": null,
   "id": "f9233768",
   "metadata": {},
   "outputs": [],
   "source": []
  },
  {
   "cell_type": "code",
   "execution_count": 24,
   "id": "b0b8eda6",
   "metadata": {},
   "outputs": [
    {
     "data": {
      "text/plain": [
       "0.8333333333333334"
      ]
     },
     "execution_count": 24,
     "metadata": {},
     "output_type": "execute_result"
    }
   ],
   "source": [
    "# Model with max_depth = 5, min_samples_leaf= 10 \n",
    "\n",
    "model_1 = DecisionTreeClassifier(max_depth = 5, min_samples_leaf= 10 )\n",
    "model_1.fit(X,y)\n",
    "y_pred_1 = model_1.predict(X)\n",
    "acc_1 = accuracy_score(y, y_pred_1)\n",
    "acc_1"
   ]
  },
  {
   "cell_type": "code",
   "execution_count": 25,
   "id": "61343965",
   "metadata": {},
   "outputs": [
    {
     "data": {
      "text/plain": [
       "0.7291666666666666"
      ]
     },
     "execution_count": 25,
     "metadata": {},
     "output_type": "execute_result"
    }
   ],
   "source": [
    "# Model with max_depth = 5, min_samples_leaf= 20 \n",
    "\n",
    "model_2 = DecisionTreeClassifier(max_depth = 5, min_samples_leaf= 20 )\n",
    "model_2.fit(X,y)\n",
    "y_pred_2 = model_2.predict(X)\n",
    "acc_2 = accuracy_score(y, y_pred_2)\n",
    "acc_2"
   ]
  },
  {
   "cell_type": "code",
   "execution_count": 26,
   "id": "fdfaa644",
   "metadata": {},
   "outputs": [
    {
     "data": {
      "text/plain": [
       "0.96875"
      ]
     },
     "execution_count": 26,
     "metadata": {},
     "output_type": "execute_result"
    }
   ],
   "source": [
    "# Model with max_depth = 5, min_samples_leaf= 5\n",
    "\n",
    "model_3 = DecisionTreeClassifier(max_depth = 5, min_samples_leaf= 5 )\n",
    "model_3.fit(X,y)\n",
    "y_pred_3 = model_3.predict(X)\n",
    "acc_3 = accuracy_score(y, y_pred_3)\n",
    "acc_3"
   ]
  },
  {
   "cell_type": "code",
   "execution_count": 46,
   "id": "7c299cd9",
   "metadata": {},
   "outputs": [
    {
     "data": {
      "text/plain": [
       "0.96875"
      ]
     },
     "execution_count": 46,
     "metadata": {},
     "output_type": "execute_result"
    }
   ],
   "source": [
    "# Model with max_depth = 5, min_samples_leaf= 7\n",
    "\n",
    "model_4 = DecisionTreeClassifier(max_depth = 5, min_samples_leaf= 7 )\n",
    "model_4.fit(X,y)\n",
    "y_pred_4 = model_4.predict(X)\n",
    "acc_4 = accuracy_score(y, y_pred_4)\n",
    "acc_4"
   ]
  },
  {
   "cell_type": "code",
   "execution_count": 30,
   "id": "4bbe4055",
   "metadata": {},
   "outputs": [
    {
     "data": {
      "text/plain": [
       "0.8333333333333334"
      ]
     },
     "execution_count": 30,
     "metadata": {},
     "output_type": "execute_result"
    }
   ],
   "source": [
    "# Model with max_depth = 4, min_samples_leaf= 7\n",
    "\n",
    "model_5 = DecisionTreeClassifier(max_depth = 4, min_samples_leaf= 7 )\n",
    "model_5.fit(X,y)\n",
    "y_pred_5 = model_5.predict(X)\n",
    "acc_5 = accuracy_score(y, y_pred_5)\n",
    "acc_5"
   ]
  },
  {
   "cell_type": "code",
   "execution_count": 43,
   "id": "51a43ac2",
   "metadata": {},
   "outputs": [
    {
     "data": {
      "text/plain": [
       "1.0"
      ]
     },
     "execution_count": 43,
     "metadata": {},
     "output_type": "execute_result"
    }
   ],
   "source": [
    "# Model with max_depth = 7, min_samples_leaf= 1\n",
    "\n",
    "model_6 = DecisionTreeClassifier(max_depth = 7, min_samples_leaf= 1)\n",
    "model_6.fit(X,y)\n",
    "y_pred_6 = model_6.predict(X)\n",
    "acc_6 = accuracy_score(y, y_pred_6)\n",
    "acc_6"
   ]
  }
 ],
 "metadata": {
  "kernelspec": {
   "display_name": "Python 3 (ipykernel)",
   "language": "python",
   "name": "python3"
  },
  "language_info": {
   "codemirror_mode": {
    "name": "ipython",
    "version": 3
   },
   "file_extension": ".py",
   "mimetype": "text/x-python",
   "name": "python",
   "nbconvert_exporter": "python",
   "pygments_lexer": "ipython3",
   "version": "3.9.7"
  }
 },
 "nbformat": 4,
 "nbformat_minor": 5
}
