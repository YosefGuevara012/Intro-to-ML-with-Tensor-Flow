{
 "cells": [
  {
   "cell_type": "markdown",
   "id": "44aed0df",
   "metadata": {},
   "source": [
    "# Quiz: Coding Cross-entropy\n",
    "Now, time to shine! Let's code the formula for cross-entropy in Python. As in the video, Y in the quiz is for the category, and P is the probability.\n",
    " \n",
    " $\\text{Cross-entropy}= - \\sum_{i=1}^{m}y_iln(p_i) + (1 - y_i)ln(1 - p_i)$\n",
    " "
   ]
  },
  {
   "cell_type": "code",
   "execution_count": 4,
   "id": "c9b11142",
   "metadata": {},
   "outputs": [],
   "source": [
    "import numpy as np\n",
    "\n",
    "# Write a function that takes as input two lists Y, P,\n",
    "# and returns the float corresponding to their cross-entropy.\n",
    "def cross_entropy(Y, P):\n",
    "    \n",
    "    result = []\n",
    "    \n",
    "    for category, probability in zip(Y,P):\n",
    "        result.append(category * np.log(probability) + (1-category)*np.log(1-probability))\n",
    "    \n",
    "    result =  -1 * sum(result)\n",
    "    \n",
    "    return  result\n",
    "    "
   ]
  },
  {
   "cell_type": "code",
   "execution_count": 6,
   "id": "5d8568d1",
   "metadata": {},
   "outputs": [
    {
     "data": {
      "text/plain": [
       "0.6851790109107685"
      ]
     },
     "execution_count": 6,
     "metadata": {},
     "output_type": "execute_result"
    }
   ],
   "source": [
    "Y = [1,1,0]\n",
    "P = [0.8,0.7,0.1]\n",
    "cross_entropy(Y, P)"
   ]
  },
  {
   "cell_type": "code",
   "execution_count": null,
   "id": "a128614e",
   "metadata": {},
   "outputs": [],
   "source": []
  }
 ],
 "metadata": {
  "kernelspec": {
   "display_name": "Python 3 (ipykernel)",
   "language": "python",
   "name": "python3"
  },
  "language_info": {
   "codemirror_mode": {
    "name": "ipython",
    "version": 3
   },
   "file_extension": ".py",
   "mimetype": "text/x-python",
   "name": "python",
   "nbconvert_exporter": "python",
   "pygments_lexer": "ipython3",
   "version": "3.9.7"
  }
 },
 "nbformat": 4,
 "nbformat_minor": 5
}
