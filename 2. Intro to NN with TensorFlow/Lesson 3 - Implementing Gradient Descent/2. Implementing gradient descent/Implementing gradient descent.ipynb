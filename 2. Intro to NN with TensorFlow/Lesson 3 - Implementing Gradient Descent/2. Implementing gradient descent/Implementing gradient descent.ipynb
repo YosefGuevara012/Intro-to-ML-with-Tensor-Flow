{
 "cells": [
  {
   "cell_type": "markdown",
   "id": "5d01faab",
   "metadata": {},
   "source": [
    "# Implementing gradient descent\n",
    "\n",
    "\n",
    "Okay, now we know how to update our weights:\n",
    "\n",
    "$$\\Delta w_{ij} = \\eta * \\delta_j * x_{i}$$\n",
    "\n",
    "\n",
    "ou've seen how to implement that for a single update, but how do we translate that code to calculate many weight updates so our network will learn?\n",
    "\n",
    "As an example, I'm going to have you use gradient descent to train a network on graduate school admissions data (found at http://www.ats.ucla.edu/stat/data/binary.csv). This dataset has three input features: GRE score, GPA, and the rank of the undergraduate school (numbered 1 through 4). Institutions with rank 1 have the highest prestige, those with rank 4 have the lowest.\n",
    "\n",
    "The goal here is to predict if a student will be admitted to a graduate program based on these features. For this, we'll use a network with one output layer with one unit. We'll use a sigmoid function for the output unit activation.\n",
    "\n",
    "![admissions-data](img\\admissions-data.png)"
   ]
  },
  {
   "cell_type": "markdown",
   "id": "4e2838cb",
   "metadata": {},
   "source": [
    "## Data cleanup\n",
    "You might think there will be three input units, but we actually need to transform the data first. The **rank** feature is categorical, the numbers don't encode any sort of relative values. Rank 2 is not twice as much as rank 1, rank 3 is not 1.5 more than rank 2. Instead, we need to use dummy variables to encode rank, splitting the data into four new columns encoded with ones or zeros. Rows with rank 1 have one in the rank 1 dummy column, and zeros in all other columns. Rows with rank 2 have one in the rank 2 dummy column, and zeros in all other columns. And so on.\n",
    "\n",
    "We'll also need to standardize the GRE and GPA data, which means to scale the values such that they have zero mean and a standard deviation of 1. This is necessary because the sigmoid function squashes really small and really large inputs. The gradient of really small and large inputs is zero, which means that the gradient descent step will go to zero too. Since the GRE and GPA values are fairly large, we have to be really careful about how we initialize the weights or the gradient descent steps will die off and the network won't train. Instead, if we standardize the data, we can initialize the weights easily and everyone is happy.\n",
    "\n",
    "This is just a brief run-through, you'll learn more about preparing data later. If you're interested in how I did this, check out the data_prep.py file in the programming exercise below.\n",
    "\n",
    "![example-data](img\\example-data.png)"
   ]
  },
  {
   "cell_type": "markdown",
   "id": "21591895",
   "metadata": {},
   "source": [
    "Now that the data is ready, we see that there are six input features: gre, gpa, and the four rank dummy variables.\n",
    "\n",
    "Mean Square Error\n",
    "We're going to make a small change to how we calculate the error here. Instead of the SSE, we're going to use the mean of the square errors (MSE). Now that we're using a lot of data, summing up all the weight steps can lead to really large updates that make the gradient descent diverge. To compensate for this, you'd need to use a quite small learning rate. Instead, we can just divide by the number of records in our data, mm to take the average. This way, no matter how much data we use, our learning rates will typically be in the range of 0.01 to 0.001. Then, we can use the MSE (shown below) to calculate the gradient and the result is the same as before, just averaged instead of summed.\n",
    "\n",
    "![mse](img\\mse.png)"
   ]
  },
  {
   "cell_type": "markdown",
   "id": "affa70c8",
   "metadata": {},
   "source": [
    "Here's the general algorithm for updating the weights with gradient descent:\n",
    "\n",
    "- Set the weight step to zero: $\\Delta w_i = 0$\n",
    "- For each record in the training data:\n",
    "    - Make a forward pass through the network, calculating the output $\\hat{y} = f(\\sum_{i}w_ix_i)$\n",
    "    - Calculate the error term for the output unit, $\\delta = (y -\\hat{y}) * f'(\\sum_{i}w_ix_i$\n",
    "    - Update the weight step $\\Delta w_i =\\Delta w_i + \\delta x_i$\n",
    "- Update the weights $w_i = w_i + \\eta \\Delta w_i / m$ where $\\eta$  is the learning rate and $m$ is the number of records. Here we're averaging the weight steps to help reduce any large variations in the training data.\n",
    "- Repeat for $e$ epochs."
   ]
  },
  {
   "cell_type": "markdown",
   "id": "10970a06",
   "metadata": {},
   "source": [
    "You can also update the weights on each record instead of averaging the weight steps after going through all the records.\n",
    "\n",
    "Remember that we're using the sigmoid for the activation function, $f(h) = 1 / (1 + e^{-h})$\n",
    "And the gradient of the sigmoid is $f'(h) = f(h)(1-f(h))$\n",
    "\n",
    "where $h$ is the input to the output unit,\n",
    "\n",
    "$h = \\sum_{i}w_ix_i$"
   ]
  },
  {
   "cell_type": "markdown",
   "id": "8686a4b1",
   "metadata": {},
   "source": [
    "## Implementing with NumPy\n",
    "For the most part, this is pretty straightforward with NumPy.\n",
    "\n",
    "First, you'll need to initialize the weights. We want these to be small such that the input to the sigmoid is in the linear region near $0$ and not squashed at the high and low ends. It's also important to initialize them randomly so that they all have different starting values and diverge, breaking symmetry. So, we'll initialize the weights from a normal distribution centered at $0$. A good value for the scale is $1/\\sqrt{n}$\n",
    "  where nn is the number of input units. This keeps the input to the sigmoid low for increasing numbers of input units."
   ]
  },
  {
   "cell_type": "code",
   "execution_count": 1,
   "id": "90b7a84b",
   "metadata": {},
   "outputs": [],
   "source": [
    "# weights = np.random.normal(scale=1/n_features**.5, size=n_features)\n"
   ]
  },
  {
   "cell_type": "markdown",
   "id": "8c9fd866",
   "metadata": {},
   "source": [
    "NumPy provides a function **np.dot()** that calculates the dot product of two arrays, which conveniently calculates hh for us. The dot product multiplies two arrays element-wise, the first element in array 1 is multiplied by the first element in array 2, and so on. Then, each product is summed"
   ]
  },
  {
   "cell_type": "code",
   "execution_count": 2,
   "id": "d1b05112",
   "metadata": {},
   "outputs": [],
   "source": [
    "# input to the output layer\n",
    "# output_in = np.dot(weights, inputs)"
   ]
  },
  {
   "cell_type": "markdown",
   "id": "5d53666c",
   "metadata": {},
   "source": [
    "And finally, we can update $\\Delta w_i$ and $w_i$ by incrementing them with **weights += ...** which is shorthand for **weights = weights +  ....**"
   ]
  },
  {
   "cell_type": "markdown",
   "id": "410de5de",
   "metadata": {},
   "source": [
    "### Efficiency tip!\n",
    "You can save some calculations since we're using a sigmoid here. For the sigmoid function, $f'(h) = f(h) (1 - f(h))$,\n",
    "That means that once you calculate $f(h)$, the activation of the output unit, you can use it to calculate the gradient for the error gradient."
   ]
  },
  {
   "cell_type": "markdown",
   "id": "6aae5cb4",
   "metadata": {},
   "source": [
    "## Programming exercise\n",
    "Below, you'll implement gradient descent and train the network on the admissions data. Your goal here is to train the network until you reach a minimum in the mean square error (MSE) on the training set. You need to implement:\n",
    "\n",
    " - The network output: **output**.\n",
    " - The output error: **error**.\n",
    " - The error term: **error_term**.\n",
    " - Update the weight step: **del_w +=**.\n",
    " - Update the weights: **weights +=**.\n",
    " \n",
    "After you've written these parts, run the training by pressing \"Test Run\". The MSE will print out, as well as the accuracy on a test set, the fraction of correctly predicted admissions.\n",
    "\n",
    "Feel free to play with the hyperparameters and see how it changes the MSE."
   ]
  },
  {
   "cell_type": "code",
   "execution_count": 3,
   "id": "c421cd17",
   "metadata": {},
   "outputs": [
    {
     "ename": "NameError",
     "evalue": "name 'output' is not defined",
     "output_type": "error",
     "traceback": [
      "\u001b[1;31m---------------------------------------------------------------------------\u001b[0m",
      "\u001b[1;31mNameError\u001b[0m                                 Traceback (most recent call last)",
      "\u001b[1;32m~\\AppData\\Local\\Temp/ipykernel_26320/3301314948.py\u001b[0m in \u001b[0;36m<module>\u001b[1;34m\u001b[0m\n\u001b[0;32m     38\u001b[0m         \u001b[1;31m# TODO: Calculate the output\u001b[0m\u001b[1;33m\u001b[0m\u001b[1;33m\u001b[0m\u001b[0m\n\u001b[0;32m     39\u001b[0m         \u001b[1;31m# output = sigmoid(np.dot(weights,x))\u001b[0m\u001b[1;33m\u001b[0m\u001b[1;33m\u001b[0m\u001b[0m\n\u001b[1;32m---> 40\u001b[1;33m         \u001b[0mprint\u001b[0m\u001b[1;33m(\u001b[0m\u001b[0moutput\u001b[0m\u001b[1;33m)\u001b[0m\u001b[1;33m\u001b[0m\u001b[1;33m\u001b[0m\u001b[0m\n\u001b[0m\u001b[0;32m     41\u001b[0m         \u001b[1;31m# TODO: Calculate the error\u001b[0m\u001b[1;33m\u001b[0m\u001b[1;33m\u001b[0m\u001b[0m\n\u001b[0;32m     42\u001b[0m         \u001b[0merror\u001b[0m \u001b[1;33m=\u001b[0m \u001b[0my\u001b[0m \u001b[1;33m-\u001b[0m \u001b[0moutput\u001b[0m\u001b[1;33m\u001b[0m\u001b[1;33m\u001b[0m\u001b[0m\n",
      "\u001b[1;31mNameError\u001b[0m: name 'output' is not defined"
     ]
    }
   ],
   "source": [
    "import numpy as np\n",
    "from data_prep import features, targets, features_test, targets_test\n",
    "\n",
    "\n",
    "def sigmoid(x):\n",
    "    \"\"\"\n",
    "    Calculate sigmoid\n",
    "    \"\"\"\n",
    "    return 1 / (1 + np.exp(-x))\n",
    "\n",
    "# TODO: We haven't provided the sigmoid_prime function like we did in\n",
    "#       the previous lesson to encourage you to come up with a more\n",
    "#       efficient solution. If you need a hint, check out the comments\n",
    "#       in solution.py from the previous lecture.\n",
    "\n",
    "# Use to same seed to make debugging easier\n",
    "np.random.seed(42)\n",
    "\n",
    "n_records, n_features = features.shape\n",
    "last_loss = None\n",
    "\n",
    "# Initialize weights\n",
    "weights = np.random.normal(scale=1 / n_features**.5, size=n_features)\n",
    "\n",
    "# Neural Network hyperparameters\n",
    "epochs = 1000\n",
    "learnrate = 0.5\n",
    "\n",
    "for e in range(epochs):\n",
    "    del_w = np.zeros(weights.shape)\n",
    "    for x, y in zip(features.values, targets):\n",
    "        # Loop through all records, x is the input, y is the target\n",
    "\n",
    "        # Note: We haven't included the h variable from the previous\n",
    "        #       lesson. You can add it if you want, or you can calculate\n",
    "        #       the h together with the output\n",
    "\n",
    "        # TODO: Calculate the output\n",
    "        # output = sigmoid(np.dot(weights,x))\n",
    "        print(output)\n",
    "        # TODO: Calculate the error\n",
    "        error = y - output\n",
    "        # print(error)\n",
    "        # TODO: Calculate the error term\n",
    "        error_term = error * output * (1 - output)\n",
    "        # print(error_term)\n",
    "        # TODO: Calculate the change in weights for this sample\n",
    "        #       and add it to the total weight change\n",
    "        del_w += np.dot(error_term,x)\n",
    "        # print(del_w)\n",
    "    # TODO: Update weights using the learning rate and the average change in weights\n",
    "    weights += learnrate * del_w / n_records\n",
    "\n",
    "    # Printing out the mean square error on the training set\n",
    "    if e % (epochs / 10) == 0:\n",
    "        out = sigmoid(np.dot(features, weights))\n",
    "        loss = np.mean((out - targets) ** 2)\n",
    "        if last_loss and last_loss < loss:\n",
    "            print(\"Train loss: \", loss, \"  WARNING - Loss Increasing\")\n",
    "        else:\n",
    "            print(\"Train loss: \", loss)\n",
    "        last_loss = loss\n",
    "\n",
    "\n",
    "# Calculate accuracy on test data\n",
    "tes_out = sigmoid(np.dot(features_test, weights))\n",
    "predictions = tes_out > 0.5\n",
    "accuracy = np.mean(predictions == targets_test)\n",
    "print(\"Prediction accuracy: {:.3f}\".format(accuracy))"
   ]
  },
  {
   "cell_type": "code",
   "execution_count": null,
   "id": "61905808",
   "metadata": {},
   "outputs": [],
   "source": []
  }
 ],
 "metadata": {
  "kernelspec": {
   "display_name": "Python 3 (ipykernel)",
   "language": "python",
   "name": "python3"
  },
  "language_info": {
   "codemirror_mode": {
    "name": "ipython",
    "version": 3
   },
   "file_extension": ".py",
   "mimetype": "text/x-python",
   "name": "python",
   "nbconvert_exporter": "python",
   "pygments_lexer": "ipython3",
   "version": "3.9.7"
  }
 },
 "nbformat": 4,
 "nbformat_minor": 5
}
